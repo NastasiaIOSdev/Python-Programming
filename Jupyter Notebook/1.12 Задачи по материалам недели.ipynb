{
 "cells": [
  {
   "cell_type": "code",
   "execution_count": null,
   "id": "ea1218fe",
   "metadata": {},
   "outputs": [],
   "source": [
    "''''''\n",
    "напишите программу, вычисляющую площадь треугольника \n",
    "по переданным длинам трёх его сторон по формуле Герона.\n",
    "полупериметр треугольника. На вход программе \n",
    "подаются целые числа, выводом программы должно являться \n",
    "вещественное число, соответствующее площади треугольника.\n",
    "''''''"
   ]
  },
  {
   "cell_type": "code",
   "execution_count": 4,
   "id": "24c34cb7",
   "metadata": {
    "scrolled": true
   },
   "outputs": [
    {
     "name": "stdout",
     "output_type": "stream",
     "text": [
      "3\n",
      "4\n",
      "5\n",
      "6.0\n"
     ]
    }
   ],
   "source": [
    "a = int(input())\n",
    "b = int(input())\n",
    "c = int(input())\n",
    "p = (a + b + c) / 2\n",
    "S = (p * (p - a) * (p - b) * (p - c)) ** 0.5\n",
    "print(S)"
   ]
  },
  {
   "cell_type": "code",
   "execution_count": null,
   "id": "81869259",
   "metadata": {},
   "outputs": [],
   "source": [
    "Напишите программу, \n",
    "принимающую на вход целое число, \n",
    "которая выводит True, если переданное \n",
    "значение попадает в интервал \n",
    "(−15,12]∪(14,17)∪[19,+∞) \n",
    "и False в противном случае (регистр символов имеет значение).\n",
    "\n",
    "Обратите внимание на разные скобки, \n",
    "используемые для обозначения интервалов.\n",
    "В задании используются полуоткрытые и открытые интервалы."
   ]
  },
  {
   "cell_type": "code",
   "execution_count": 11,
   "id": "47e12e8c",
   "metadata": {},
   "outputs": [
    {
     "name": "stdout",
     "output_type": "stream",
     "text": [
      "-20\n",
      "False\n"
     ]
    }
   ],
   "source": [
    "x = int(input())\n",
    "if -15 < x <= 12 or 14 < x < 17 or x >= 19:\n",
    "    print('True')\n",
    "else:\n",
    "    print('False')"
   ]
  },
  {
   "cell_type": "code",
   "execution_count": null,
   "id": "c589e79b",
   "metadata": {},
   "outputs": [],
   "source": [
    "Напишите простой калькулятор, \n",
    "который считывает с пользовательского ввода три строки: \n",
    "первое число, второе число и операцию, \n",
    "после чего применяет операцию к введённым числам \n",
    "(\"первое число\" \"операция\" \"второе число\") и \n",
    "выводит результат на экран.\n",
    "\n",
    "Поддерживаемые операции: +, -, /, *, mod, pow, div, где\n",
    "mod — это взятие остатка от деления,\n",
    "pow — возведение в степень,\n",
    "div — целочисленное деление.\n",
    "\n",
    "Если выполняется деление и второе число равно 0, \n",
    "необходимо выводить строку \"Деление на 0!\".\n",
    "\n",
    "Обратите внимание, что на вход программе \n",
    "приходят вещественные числа."
   ]
  },
  {
   "cell_type": "code",
   "execution_count": 29,
   "id": "fb7d3624",
   "metadata": {},
   "outputs": [
    {
     "name": "stdout",
     "output_type": "stream",
     "text": [
      "первое число 5.0\n",
      "второе число 0.0\n",
      "операция div\n",
      "Деление на 0!\n"
     ]
    }
   ],
   "source": [
    "first_number = float(input('первое число '))\n",
    "second_number = float(input('второе число '))\n",
    "operation = input('операция ')\n",
    "if operation == '+':\n",
    "    result = first_number + second_number\n",
    "    print('Результат :',result)\n",
    "elif operation == '-':\n",
    "    result = first_number - second_number\n",
    "    print('Результат :',result)\n",
    "elif operation == '*':\n",
    "    result = first_number * second_number\n",
    "    print('Результат :',result)\n",
    "elif operation == 'pow':\n",
    "    result = first_number ** second_number\n",
    "    print('Результат :',result)\n",
    "elif (operation == '/' or operation == 'mod' or operation == 'div') and second_number == 0:\n",
    "    print('Деление на 0!')\n",
    "elif operation == '/':\n",
    "    result = first_number / second_number\n",
    "    print('Результат :',result)\n",
    "elif operation == 'mod':\n",
    "    result = first_number % second_number\n",
    "    print('Результат :',result)\n",
    "elif operation == 'div':\n",
    "    result = first_number // second_number\n",
    "    print('Результат :',result)\n",
    "else:\n",
    "    print('Операция не поддерживается!')"
   ]
  },
  {
   "cell_type": "code",
   "execution_count": 30,
   "id": "2470787a",
   "metadata": {},
   "outputs": [
    {
     "name": "stdout",
     "output_type": "stream",
     "text": [
      "первое число 5.0\n",
      "второе число 0.0\n",
      "операция mod\n",
      "Деление на 0!\n"
     ]
    }
   ],
   "source": [
    "first_number = float(input('первое число '))\n",
    "second_number = float(input('второе число '))\n",
    "operation = input('операция ')\n",
    "if operation == '+':\n",
    "    result = first_number + second_number\n",
    "    print('Результат :',result)\n",
    "elif operation == '-':\n",
    "    result = first_number - second_number\n",
    "    print('Результат :',result)\n",
    "elif operation == '*':\n",
    "    result = first_number * second_number\n",
    "    print('Результат :',result)\n",
    "elif operation == 'pow':\n",
    "    result = first_number ** second_number\n",
    "    print('Результат :',result)\n",
    "elif operation == '/':\n",
    "    if second_number == 0:\n",
    "        print('Деление на 0!')\n",
    "    else:\n",
    "        result = first_number / second_number\n",
    "        print('Результат :',result)\n",
    "elif operation == 'mod':\n",
    "    if second_number == 0:\n",
    "        print('Деление на 0!')\n",
    "    else:\n",
    "        result = first_number % second_number\n",
    "        print('Результат :',result)\n",
    "elif operation == 'div':\n",
    "    if second_number == 0:\n",
    "        print('Деление на 0!')\n",
    "    else:\n",
    "        result = first_number // second_number\n",
    "        print('Результат :',result)\n",
    "else:\n",
    "    print('Операция не поддерживается!')"
   ]
  },
  {
   "cell_type": "code",
   "execution_count": 33,
   "id": "7cc2b4cc",
   "metadata": {},
   "outputs": [
    {
     "name": "stdout",
     "output_type": "stream",
     "text": [
      "5.0\n",
      "10.0\n",
      "3\n",
      "Операция не поддерживается!\n"
     ]
    }
   ],
   "source": [
    "first_number = float(input(''))\n",
    "second_number = float(input(''))\n",
    "operation = str(input(''))\n",
    "if operation == '+':\n",
    "    print(first_number + second_number)\n",
    "elif operation == '-':\n",
    "    print(first_number - second_number)\n",
    "elif operation == '*':\n",
    "    print(first_number * second_number)\n",
    "elif operation == 'pow':\n",
    "    print(first_number ** second_number)\n",
    "elif operation == '/':\n",
    "    if second_number == 0:\n",
    "        print('Деление на 0!')\n",
    "    else:\n",
    "        print(first_number / second_number)\n",
    "elif operation == 'mod':\n",
    "    if second_number == 0:\n",
    "        print('Деление на 0!')\n",
    "    else:\n",
    "        print(first_number % second_number)\n",
    "elif operation == 'div':\n",
    "    if second_number == 0:\n",
    "        print('Деление на 0!')\n",
    "    else:\n",
    "        print(first_number // second_number)\n",
    "else:\n",
    "    print('Операция не поддерживается!')"
   ]
  },
  {
   "cell_type": "code",
   "execution_count": null,
   "id": "8f2f9f62",
   "metadata": {},
   "outputs": [],
   "source": [
    "Жители страны Малевии часто экспериментируют с планировкой комнат. \n",
    "Комнаты бывают треугольные, прямоугольные и круглые. \n",
    "Чтобы быстро вычислять жилплощадь, требуется написать программу, \n",
    "на вход которой подаётся тип фигуры комнаты и соответствующие параметры, \n",
    "которая бы выводила площадь получившейся комнаты.\n",
    "Для числа π в стране Малевии используют значение 3.14.\n",
    "\n",
    "Формат ввода, который используют Малевийцы:\n",
    "\n",
    "треугольник\n",
    "a\n",
    "b\n",
    "c\n",
    "где a, b и c — длины сторон треугольника\n",
    "\n",
    "прямоугольник\n",
    "a\n",
    "b\n",
    "где a и b — длины сторон прямоугольника\n",
    "\n",
    "круг\n",
    "r\n",
    "где r — радиус окружности"
   ]
  },
  {
   "cell_type": "code",
   "execution_count": 55,
   "id": "4d2f06c9",
   "metadata": {},
   "outputs": [
    {
     "name": "stdout",
     "output_type": "stream",
     "text": [
      "прямоугольник\n",
      "4\n",
      "10\n",
      "40.0\n"
     ]
    }
   ],
   "source": [
    "name = str(input())\n",
    "if name == 'треугольник':\n",
    "    a = int(input())\n",
    "    b = int(input())\n",
    "    c = int(input()) \n",
    "    p = (a + b + c) / 2\n",
    "    s = (p * (p - a) * (p - b) * (p - c)) ** 0.5\n",
    "    print(float(s))\n",
    "elif name == 'прямоугольник':\n",
    "    a = int(input())\n",
    "    b = int(input())\n",
    "    s = (a * b)\n",
    "    print(float(s))\n",
    "elif name == 'круг':\n",
    "    r = int(input())\n",
    "    pi = 3.14\n",
    "    s = pi * (r ** 2)\n",
    "    print(float(s))\n",
    "else:\n",
    "    print('Нет такой формы комнаты!')"
   ]
  },
  {
   "cell_type": "code",
   "execution_count": null,
   "id": "e7a77da8",
   "metadata": {},
   "outputs": [],
   "source": [
    "Напишите программу, которая получает на вход три целых числа, \n",
    "по одному числу в строке, и выводит на консоль в три \n",
    "строки сначала максимальное, потом минимальное, \n",
    "после чего оставшееся число.\n",
    "На ввод могут подаваться и повторяющиеся числа."
   ]
  },
  {
   "cell_type": "code",
   "execution_count": 9,
   "id": "cb730dde",
   "metadata": {},
   "outputs": [
    {
     "name": "stdout",
     "output_type": "stream",
     "text": [
      "23\n",
      "23\n",
      "21\n",
      "23\n",
      "21\n",
      "23\n"
     ]
    }
   ],
   "source": [
    "a = int(input())\n",
    "b = int(input())\n",
    "c = int(input())\n",
    "if a >= b and a >= c:\n",
    "    if b >= c:\n",
    "        print(a)\n",
    "        print(c)\n",
    "        print(b)\n",
    "    else: \n",
    "        print(a)\n",
    "        print(b)\n",
    "        print(c)\n",
    "elif b >= a and b >= c:\n",
    "    if a >= c:\n",
    "        print(b)\n",
    "        print(c)\n",
    "        print(a)\n",
    "    else:\n",
    "        print(b)\n",
    "        print(a)\n",
    "        print(c)\n",
    "elif c >= a and c >= b:\n",
    "    if b >= a:\n",
    "        print(c)\n",
    "        print(a)\n",
    "        print(b)\n",
    "    else:\n",
    "        print(c)\n",
    "        print(b)\n",
    "        print(a)"
   ]
  },
  {
   "cell_type": "code",
   "execution_count": 32,
   "id": "7d74d838",
   "metadata": {},
   "outputs": [
    {
     "ename": "SyntaxError",
     "evalue": "invalid syntax (357078857.py, line 1)",
     "output_type": "error",
     "traceback": [
      "\u001b[0;36m  File \u001b[0;32m\"/var/folders/n8/j_mznnf96nv5rpg2rmlkk4jw0000gn/T/ipykernel_65104/357078857.py\"\u001b[0;36m, line \u001b[0;32m1\u001b[0m\n\u001b[0;31m    В институте биоинформатики по офису передвигается робот.\u001b[0m\n\u001b[0m      ^\u001b[0m\n\u001b[0;31mSyntaxError\u001b[0m\u001b[0;31m:\u001b[0m invalid syntax\n"
     ]
    }
   ],
   "source": [
    "В институте биоинформатики по офису передвигается робот. \n",
    "Недавно студенты из группы программистов написали \n",
    "для него программу, по которой робот, когда заходит в комнату, \n",
    "считает количество программистов в ней и произносит его вслух: \n",
    "\"n программистов\".\n",
    "\n",
    "Для того, чтобы это звучало правильно, \n",
    "для каждого nn нужно использовать верное окончание слова.\n",
    "\n",
    "Напишите программу, считывающую с пользовательского ввода целое\n",
    "число nn (неотрицательное), выводящее это число в консоль вместе \n",
    "с правильным образом изменённым словом \"программист\", для того, \n",
    "чтобы робот мог нормально общаться с людьми, например: \n",
    "1 программист, 2 программиста, 5 программистов.\n",
    "\n",
    "В комнате может быть очень много программистов. \n",
    "Проверьте, что ваша программа правильно обработает все случаи, \n",
    "как минимум до 1000 человек.\n",
    "\n",
    "Дополнительный комментарий к условию:\n",
    "Обратите внимание, что задача не так проста, \n",
    "как кажется на первый взгляд. Если ваше решение не \n",
    "проходит какой-то тест, это значит, что вы не рассмотрели \n",
    "какой-то из случаев входных данных \n",
    "(число программистов 0≤n≤1000). \n",
    "Обязательно проверяйте свои решения на дополнительных значениях, \n",
    "а не только на тех, что приведены в условии задания.\n",
    "\n",
    "Так как задание повышенной сложности, \n",
    "вручную код решений проверяться не будет. \n",
    "Если вы столкнулись с ошибкой в первых четырёх тестах, \n",
    "проверьте, что вы используете только русские символы для ответа. \n",
    "В остальных случаях ищите ошибку в логике работы программы."
   ]
  },
  {
   "cell_type": "code",
   "execution_count": 37,
   "id": "72c49858",
   "metadata": {
    "scrolled": true
   },
   "outputs": [
    {
     "name": "stdout",
     "output_type": "stream",
     "text": [
      "3\n",
      "3 программиста\n"
     ]
    }
   ],
   "source": [
    "n = int(input())\n",
    "v = str(n)\n",
    "if 0 <= n <= 1000:\n",
    "    if (len(v) == 3 or len(v) == 2) and v[-2] == '1' and (v[-1] == '1' or v[-1] == '2' or v[-1] == '3' or v[-1] == '4'):\n",
    "        print(v + ' программистов')\n",
    "    elif v == '1' or v[-1] == '1':\n",
    "        print(v + ' программист')\n",
    "    elif v == '2' or v == '3' or v == '4' or v[-1] == '2' or v[-1] == '3' or v[-1] == '4' :\n",
    "        print(v + ' программиста')\n",
    "    else:\n",
    "        print(v + ' программистов')\n",
    "else:\n",
    "    print('Number out or range!')"
   ]
  },
  {
   "cell_type": "code",
   "execution_count": null,
   "id": "644e0c57",
   "metadata": {},
   "outputs": [],
   "source": [
    "Паша очень любит кататься на общественном транспорте, \n",
    "а получая билет, сразу проверяет, счастливый ли ему попался.\n",
    "Билет считается счастливым, если сумма первых трех цифр \n",
    "совпадает с суммой последних трех цифр номера билета.\n",
    "\n",
    "Однако Паша очень плохо считает в уме, \n",
    "поэтому попросил вас написать программу, \n",
    "которая проверит равенство сумм и выведет \"Счастливый\", \n",
    "если суммы совпадают, и \"Обычный\", если суммы различны.\n",
    "\n",
    "На вход программе подаётся строка из шести цифр.\n",
    "\n",
    "Выводить нужно только слово \"Счастливый\" или \"Обычный\", \n",
    "с большой буквы."
   ]
  },
  {
   "cell_type": "code",
   "execution_count": 21,
   "id": "33292622",
   "metadata": {},
   "outputs": [
    {
     "name": "stdout",
     "output_type": "stream",
     "text": [
      "080143\n",
      "Счастливый\n"
     ]
    }
   ],
   "source": [
    "ticket = input()\n",
    "if len(ticket) != 6:\n",
    "    print('В билете 6 цифр!')\n",
    "elif len(ticket) == 6 and int(ticket[0]) + int(ticket[1]) + int(ticket[2]) == int(ticket[3]) + int(ticket[4]) + int(ticket[5]):\n",
    "    print('Счастливый')\n",
    "else:\n",
    "    print('Обычный')"
   ]
  }
 ],
 "metadata": {
  "kernelspec": {
   "display_name": "Python 3 (ipykernel)",
   "language": "python",
   "name": "python3"
  },
  "language_info": {
   "codemirror_mode": {
    "name": "ipython",
    "version": 3
   },
   "file_extension": ".py",
   "mimetype": "text/x-python",
   "name": "python",
   "nbconvert_exporter": "python",
   "pygments_lexer": "ipython3",
   "version": "3.9.7"
  }
 },
 "nbformat": 4,
 "nbformat_minor": 5
}
