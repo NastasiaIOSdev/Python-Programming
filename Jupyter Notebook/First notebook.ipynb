{
 "cells": [
  {
   "cell_type": "code",
   "execution_count": 21,
   "id": "1b1382cb",
   "metadata": {
    "scrolled": true
   },
   "outputs": [
    {
     "name": "stdout",
     "output_type": "stream",
     "text": [
      "The number is: 0\n",
      "The number is: 1\n",
      "The number is: 2\n",
      "The number is: 3\n",
      "The number is: 4\n",
      "The number is: 5\n",
      "The number is: 6\n",
      "The number is: 7\n",
      "The number is: 8\n",
      "The number is: 9\n",
      "The number is: 10\n",
      "The number is: 11\n",
      "The number is: 12\n",
      "The number is: 13\n",
      "The number is: 14\n",
      "The number is: 15\n",
      "The number is: 16\n",
      "The number is: 17\n",
      "The number is: 18\n",
      "The number is: 19\n",
      "The number is: 20\n",
      "The number is: 21\n",
      "The number is: 22\n",
      "The number is: 23\n",
      "The number is: 24\n",
      "The number is: 25\n",
      "The number is: 26\n",
      "The number is: 27\n",
      "The number is: 28\n",
      "The number is: 29\n",
      "The number is: 30\n",
      "The number is: 31\n",
      "The number is: 32\n",
      "The number is: 33\n",
      "The number is: 34\n",
      "The number is: 35\n",
      "The number is: 36\n",
      "The number is: 37\n",
      "The number is: 38\n",
      "The number is: 39\n",
      "The number is: 40\n",
      "The number is: 41\n",
      "The number is: 42\n",
      "The number is: 43\n",
      "The number is: 44\n",
      "The number is: 45\n",
      "The number is: 46\n",
      "The number is: 47\n",
      "The number is: 48\n",
      "The number is: 49\n",
      "The number is: 50\n",
      "The number is: 51\n",
      "The number is: 52\n",
      "The number is: 53\n",
      "The number is: 54\n",
      "The number is: 55\n",
      "The number is: 56\n",
      "The number is: 57\n",
      "The number is: 58\n",
      "The number is: 59\n",
      "The number is: 60\n",
      "The number is: 61\n",
      "The number is: 62\n",
      "The number is: 63\n",
      "The number is: 64\n",
      "The number is: 65\n",
      "The number is: 66\n",
      "The number is: 67\n",
      "The number is: 68\n",
      "The number is: 69\n",
      "The number is: 70\n",
      "The number is: 71\n",
      "The number is: 72\n",
      "The number is: 73\n",
      "The number is: 74\n",
      "The number is: 75\n",
      "The number is: 76\n",
      "The number is: 77\n",
      "The number is: 78\n",
      "The number is: 79\n",
      "The number is: 80\n",
      "The number is: 81\n",
      "The number is: 82\n",
      "The number is: 83\n",
      "The number is: 84\n",
      "The number is: 85\n",
      "The number is: 86\n",
      "The number is: 87\n",
      "The number is: 88\n",
      "The number is: 89\n",
      "The number is: 90\n",
      "The number is: 91\n",
      "The number is: 92\n",
      "The number is: 93\n",
      "The number is: 94\n",
      "The number is: 95\n",
      "The number is: 96\n",
      "The number is: 97\n",
      "The number is: 98\n",
      "The number is: 99\n"
     ]
    }
   ],
   "source": [
    "for c in range(100):\n",
    "    print('The number is:', c)"
   ]
  },
  {
   "cell_type": "code",
   "execution_count": 27,
   "id": "33e262d7",
   "metadata": {},
   "outputs": [
    {
     "data": {
      "text/plain": [
       "10020"
      ]
     },
     "execution_count": 27,
     "metadata": {},
     "output_type": "execute_result"
    }
   ],
   "source": [
    "# коментарий к коду\n",
    "a += 10\n",
    "a"
   ]
  },
  {
   "cell_type": "code",
   "execution_count": 36,
   "id": "bb9bbac8",
   "metadata": {},
   "outputs": [],
   "source": [
    "import matplotlib.pyplot as plt"
   ]
  },
  {
   "cell_type": "code",
   "execution_count": 37,
   "id": "8c4fae1d",
   "metadata": {},
   "outputs": [],
   "source": [
    "x = [-2,-1,0,1,2]\n",
    "y = [4,1,0,1,4]"
   ]
  },
  {
   "cell_type": "code",
   "execution_count": 38,
   "id": "663235b1",
   "metadata": {},
   "outputs": [
    {
     "data": {
      "text/plain": [
       "[<matplotlib.lines.Line2D at 0x7f863789cd30>]"
      ]
     },
     "execution_count": 38,
     "metadata": {},
     "output_type": "execute_result"
    },
    {
     "data": {
      "image/png": "[encoded data removed]",
      "text/plain": [
       "<Figure size 432x288 with 1 Axes>"
      ]
     },
     "metadata": {
      "needs_background": "light"
     },
     "output_type": "display_data"
    }
   ],
   "source": [
    "plt.plot(x,y)"
   ]
  },
  {
   "cell_type": "code",
   "execution_count": 39,
   "id": "3fdde3d4",
   "metadata": {},
   "outputs": [],
   "source": [
    "x = [3,4,5,6,7,8,9,10,11,12]\n",
    "y = [9,16,25,36,49,64,81,100,121,144]"
   ]
  },
  {
   "cell_type": "code",
   "execution_count": 40,
   "id": "87160394",
   "metadata": {},
   "outputs": [
    {
     "data": {
      "text/plain": [
       "<BarContainer object of 10 artists>"
      ]
     },
     "execution_count": 40,
     "metadata": {},
     "output_type": "execute_result"
    },
    {
     "data": {
      "image/png": "[encoded data removed]",
      "text/plain": [
       "<Figure size 432x288 with 1 Axes>"
      ]
     },
     "metadata": {
      "needs_background": "light"
     },
     "output_type": "display_data"
    }
   ],
   "source": [
    "plt.bar(x,y)"
   ]
  },
  {
   "cell_type": "code",
   "execution_count": 39,
   "id": "136d4131",
   "metadata": {},
   "outputs": [],
   "source": [
    "x = [3,4,5,6,7,8,9,10,11,12]\n",
    "y = [9,16,25,36,49,64,81,100,121,144]"
   ]
  },
  {
   "cell_type": "code",
   "execution_count": 41,
   "id": "cbdac31d",
   "metadata": {},
   "outputs": [
    {
     "data": {
      "text/plain": [
       "<matplotlib.collections.PathCollection at 0x7f8637bb0fd0>"
      ]
     },
     "execution_count": 41,
     "metadata": {},
     "output_type": "execute_result"
    },
    {
     "data": {
      "image/png": "[encoded data removed]",
      "text/plain": [
       "<Figure size 432x288 with 1 Axes>"
      ]
     },
     "metadata": {
      "needs_background": "light"
     },
     "output_type": "display_data"
    }
   ],
   "source": [
    "plt.scatter(x,y)"
   ]
  },
  {
   "cell_type": "code",
   "execution_count": 42,
   "id": "3c7c5a76",
   "metadata": {},
   "outputs": [
    {
     "data": {
      "text/plain": [
       "<Figure size 648x360 with 0 Axes>"
      ]
     },
     "metadata": {},
     "output_type": "display_data"
    }
   ],
   "source": [
    "x = [4,9,16,25,36]\n",
    "fig = plt.figure(figsize =(9,5))"
   ]
  },
  {
   "cell_type": "code",
   "execution_count": 43,
   "id": "325547eb",
   "metadata": {},
   "outputs": [
    {
     "data": {
      "text/plain": [
       "([<matplotlib.patches.Wedge at 0x7f8637bf4f10>,\n",
       "  <matplotlib.patches.Wedge at 0x7f8637ca7490>,\n",
       "  <matplotlib.patches.Wedge at 0x7f8637ca7970>,\n",
       "  <matplotlib.patches.Wedge at 0x7f8637ca7e50>,\n",
       "  <matplotlib.patches.Wedge at 0x7f8637cb1370>],\n",
       " [Text(1.089294875098134, 0.1530904147389412, ''),\n",
       "  Text(0.9119413227716507, 0.6151122042534126, ''),\n",
       "  Text(0.11498127715975763, 1.0939740883141205, ''),\n",
       "  Text(-1.0673253214658702, 0.2661139946672801, ''),\n",
       "  Text(0.3399188456330333, -1.0461621185951564, '')])"
      ]
     },
     "execution_count": 43,
     "metadata": {},
     "output_type": "execute_result"
    },
    {
     "data": {
      "image/png": "[encoded data removed]",
      "text/plain": [
       "<Figure size 432x288 with 1 Axes>"
      ]
     },
     "metadata": {},
     "output_type": "display_data"
    }
   ],
   "source": [
    "plt.pie(x)"
   ]
  },
  {
   "cell_type": "code",
   "execution_count": 44,
   "id": "06fe52ed",
   "metadata": {},
   "outputs": [
    {
     "data": {
      "text/plain": [
       "<Figure size 396x396 with 0 Axes>"
      ]
     },
     "metadata": {},
     "output_type": "display_data"
    }
   ],
   "source": [
    "x=[4,9,16,25,36]\n",
    "fig = plt.figure(figsize =(5.5, 5.5))"
   ]
  },
  {
   "cell_type": "code",
   "execution_count": 46,
   "id": "cdf29690",
   "metadata": {},
   "outputs": [
    {
     "data": {
      "text/plain": [
       "([<matplotlib.patches.Wedge at 0x7f8637ce0160>,\n",
       "  <matplotlib.patches.Wedge at 0x7f8637ce0730>,\n",
       "  <matplotlib.patches.Wedge at 0x7f8637ce0e20>,\n",
       "  <matplotlib.patches.Wedge at 0x7f8637cee0a0>,\n",
       "  <matplotlib.patches.Wedge at 0x7f8637cee460>],\n",
       " [Text(1.089294875098134, 0.1530904147389412, 'Guavas'),\n",
       "  Text(0.9119413227716507, 0.6151122042534126, 'Berries'),\n",
       "  Text(0.11498127715975763, 1.0939740883141205, 'Mangoes'),\n",
       "  Text(-1.0673253214658702, 0.2661139946672801, 'Apples'),\n",
       "  Text(0.3399188456330333, -1.0461621185951564, 'Avocado')])"
      ]
     },
     "execution_count": 46,
     "metadata": {},
     "output_type": "execute_result"
    },
    {
     "data": {
      "image/png": "[encoded data removed]",
      "text/plain": [
       "<Figure size 432x288 with 1 Axes>"
      ]
     },
     "metadata": {},
     "output_type": "display_data"
    }
   ],
   "source": [
    "plt.pie(x, labels=(\"Guavas\", \"Berries\",\"Mangoes\",\"Apples\", \"Avocado\"),\n",
    " colors = ( \"#a86544\", \"#eb5b13\", \"#ebc713\", \"#bdeb13\", \"#8aeb13\"))"
   ]
  },
  {
   "cell_type": "code",
   "execution_count": 48,
   "id": "bc279fbd",
   "metadata": {},
   "outputs": [
    {
     "data": {
      "text/plain": [
       "'python\\nprint(\"Hello!\")\\n'"
      ]
     },
     "execution_count": 48,
     "metadata": {},
     "output_type": "execute_result"
    }
   ],
   "source": [
    "'''python\n",
    "print(\"Hello!\")\n",
    "'''"
   ]
  },
  {
   "cell_type": "code",
   "execution_count": null,
   "id": "c5b8edf8",
   "metadata": {},
   "outputs": [],
   "source": []
  }
 ],
 "metadata": {
  "kernelspec": {
   "display_name": "Python 3 (ipykernel)",
   "language": "python",
   "name": "python3"
  },
  "language_info": {
   "codemirror_mode": {
    "name": "ipython",
    "version": 3
   },
   "file_extension": ".py",
   "mimetype": "text/x-python",
   "name": "python",
   "nbconvert_exporter": "python",
   "pygments_lexer": "ipython3",
   "version": "3.9.7"
  }
 },
 "nbformat": 4,
 "nbformat_minor": 5
}
