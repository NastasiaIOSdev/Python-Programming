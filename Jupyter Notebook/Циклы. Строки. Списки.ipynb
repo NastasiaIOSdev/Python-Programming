{
 "cells": [
  {
   "cell_type": "code",
   "execution_count": 1,
   "id": "707ce90a",
   "metadata": {},
   "outputs": [
    {
     "name": "stdout",
     "output_type": "stream",
     "text": [
      "5\n",
      "7\n",
      "9\n",
      "11\n",
      "13\n",
      "15\n"
     ]
    }
   ],
   "source": [
    "a = 5\n",
    "while a <= 15:\n",
    "    print(a)\n",
    "    a += 2"
   ]
  },
  {
   "cell_type": "code",
   "execution_count": 2,
   "id": "80c45e4c",
   "metadata": {},
   "outputs": [
    {
     "name": "stdout",
     "output_type": "stream",
     "text": [
      "5\n",
      "7\n",
      "9\n",
      "11\n",
      "13\n",
      "15\n"
     ]
    }
   ],
   "source": [
    "a = 5\n",
    "while a <= 15:\n",
    "    if a % 2 == 1:\n",
    "        print(a)\n",
    "    a += 1"
   ]
  },
  {
   "cell_type": "code",
   "execution_count": 5,
   "id": "f1d4af95",
   "metadata": {},
   "outputs": [
    {
     "name": "stdout",
     "output_type": "stream",
     "text": [
      "Итерация\n",
      "1\n",
      "Итерация\n",
      "2\n",
      "Итерация\n",
      "3\n",
      "Итерация\n",
      "4\n",
      "Итерация\n",
      "5\n",
      "Итерация\n",
      "6\n",
      "Итерация\n",
      "7\n",
      "Итерация\n",
      "10\n",
      "Итерация\n",
      "13\n"
     ]
    }
   ],
   "source": [
    "i = 0\n",
    "while i <= 10:\n",
    "    print('Итерация')\n",
    "    i = i + 1\n",
    "    if i > 7:\n",
    "        i = i + 2\n",
    "    print(i)"
   ]
  },
  {
   "cell_type": "code",
   "execution_count": null,
   "id": "36198206",
   "metadata": {},
   "outputs": [],
   "source": [
    "св-во умножение строчки на число 'a'*3 -> 'aaa'"
   ]
  },
  {
   "cell_type": "code",
   "execution_count": 9,
   "id": "db37420e",
   "metadata": {},
   "outputs": [
    {
     "name": "stdout",
     "output_type": "stream",
     "text": [
      "10\n",
      "*\n",
      "**\n",
      "***\n",
      "****\n",
      "*****\n",
      "******\n",
      "*******\n",
      "********\n",
      "*********\n",
      "**********\n"
     ]
    }
   ],
   "source": [
    "n = int(input())\n",
    "a = 1\n",
    "while a <= n:\n",
    "    print('*' * a)\n",
    "    a += 1"
   ]
  },
  {
   "cell_type": "code",
   "execution_count": 11,
   "id": "e991ee8c",
   "metadata": {},
   "outputs": [
    {
     "name": "stdout",
     "output_type": "stream",
     "text": [
      "5\n",
      "*\n",
      "**\n",
      "***\n",
      "****\n",
      "*****\n"
     ]
    }
   ],
   "source": [
    "n = int(input())\n",
    "stars = '*'\n",
    "while len(stars) <= n:\n",
    "    print(stars)\n",
    "    stars += '*'"
   ]
  },
  {
   "cell_type": "code",
   "execution_count": 12,
   "id": "7709bbfc",
   "metadata": {},
   "outputs": [
    {
     "name": "stdout",
     "output_type": "stream",
     "text": [
      "*\n",
      "**\n",
      "*\n",
      "*\n",
      "**\n",
      "*\n",
      "***\n",
      "*\n",
      "**\n",
      "***\n"
     ]
    }
   ],
   "source": [
    "i = 0 \n",
    "while i < 5:\n",
    "    print('*')\n",
    "    if i % 2 == 0:\n",
    "        print('**')\n",
    "    if i > 2:\n",
    "        print('***')\n",
    "    i = i + 1"
   ]
  },
  {
   "cell_type": "code",
   "execution_count": 1,
   "id": "4df9e9f3",
   "metadata": {},
   "outputs": [
    {
     "name": "stdout",
     "output_type": "stream",
     "text": [
      "3\n",
      "7\n",
      "25\n"
     ]
    }
   ],
   "source": [
    "a = int(input())\n",
    "b = int(input())\n",
    "s = 0\n",
    "i = a\n",
    "while i <= b:\n",
    "    s += i\n",
    "    i += 1\n",
    "print(s)"
   ]
  },
  {
   "cell_type": "code",
   "execution_count": null,
   "id": "67404e7c",
   "metadata": {},
   "outputs": [],
   "source": [
    "Напишите программу, которая считывает со стандартного ввода \n",
    "целые числа, по одному числу в строке, и после первого \n",
    "введенного нуля выводит сумму полученных на вход чисел."
   ]
  },
  {
   "cell_type": "code",
   "execution_count": 11,
   "id": "ebaee59e",
   "metadata": {},
   "outputs": [
    {
     "name": "stdout",
     "output_type": "stream",
     "text": [
      "50\n",
      "50\n",
      "100\n",
      "0\n",
      "200\n"
     ]
    }
   ],
   "source": [
    "a = int(input())\n",
    "s = 0\n",
    "while a != 0:\n",
    "    s += a\n",
    "    a = int(input())\n",
    "print(s)   "
   ]
  },
  {
   "cell_type": "code",
   "execution_count": null,
   "id": "e5549708",
   "metadata": {},
   "outputs": [],
   "source": [
    "В Институте биоинформатики между информатиками и биологами \n",
    "устраивается соревнование. Победителям соревнования достанется \n",
    "большой и вкусный пирог. В команде биологов aa человек, \n",
    "а в команде информатиков — bb человек.\n",
    "\n",
    "Нужно заранее разрезать пирог таким образом, \n",
    "чтобы можно было раздать кусочки пирога любой команде, \n",
    "выигравшей соревнование, при этом каждому участнику этой команды \n",
    "должно достаться одинаковое число кусочков пирога. \n",
    "И так как не хочется резать пирог на слишком мелкие кусочки, \n",
    "нужно найти минимальное подходящее число.\n",
    "\n",
    "Напишите программу, которая помогает найти это число.\n",
    "Программа должна считывать размеры команд \n",
    "(два положительных целых числа a и b, каждое число вводится \n",
    " на отдельной строке) и выводить наименьшее число d, \n",
    "которое делится на оба этих числа без остатка."
   ]
  },
  {
   "cell_type": "code",
   "execution_count": 3,
   "id": "e1f162ed",
   "metadata": {},
   "outputs": [
    {
     "name": "stdout",
     "output_type": "stream",
     "text": [
      "1\n",
      "2\n",
      "2\n"
     ]
    }
   ],
   "source": [
    "a = int(input())\n",
    "b = int(input())\n",
    "if a != b:\n",
    "    d = a * b\n",
    "else:\n",
    "    d = a\n",
    "print(d)"
   ]
  },
  {
   "cell_type": "code",
   "execution_count": 10,
   "id": "93e77d46",
   "metadata": {},
   "outputs": [
    {
     "name": "stdout",
     "output_type": "stream",
     "text": [
      "9\n",
      "5\n",
      "45\n"
     ]
    }
   ],
   "source": [
    "a = int(input())\n",
    "b = int(input())\n",
    "d = 1\n",
    "while d % a != 0 or d % b != 0:\n",
    "    d +=1\n",
    "print(d)"
   ]
  },
  {
   "cell_type": "code",
   "execution_count": null,
   "id": "4c72817d",
   "metadata": {},
   "outputs": [],
   "source": [
    "Операторы break, continue"
   ]
  },
  {
   "cell_type": "code",
   "execution_count": null,
   "id": "d81fb4d8",
   "metadata": {},
   "outputs": [],
   "source": [
    "Читаем 5 пар чисел и выводим их произведение"
   ]
  },
  {
   "cell_type": "code",
   "execution_count": null,
   "id": "c1745bac",
   "metadata": {},
   "outputs": [],
   "source": [
    "i = 0\n",
    "while i < 5:\n",
    "    a, b = input().split()\n",
    "    a = int(a)\n",
    "    b = int(b)\n",
    "    print(a * b)\n",
    "    i += 1"
   ]
  },
  {
   "cell_type": "code",
   "execution_count": 7,
   "id": "dc54a537",
   "metadata": {},
   "outputs": [
    {
     "name": "stdout",
     "output_type": "stream",
     "text": [
      "3 4\n",
      "12\n",
      "3 5\n",
      "15\n",
      "2 9\n",
      "18\n",
      "3 4\n",
      "12\n",
      "3 3\n",
      "9\n"
     ]
    }
   ],
   "source": [
    "i = 0\n",
    "while i < 5:\n",
    "    a, b = input().split()\n",
    "    a = int(a)\n",
    "    b = int(b)\n",
    "    if (a == 0) and (b == 0):\n",
    "        break\n",
    "    print(a * b)\n",
    "    i += 1"
   ]
  },
  {
   "cell_type": "code",
   "execution_count": 8,
   "id": "91c2a3e4",
   "metadata": {},
   "outputs": [
    {
     "name": "stdout",
     "output_type": "stream",
     "text": [
      "4 5\n",
      "20\n",
      "4 5\n",
      "20\n",
      "3 4\n",
      "12\n",
      "3 5\n",
      "15\n",
      "3 0\n",
      "3 0\n",
      "3 0\n",
      "0 4\n",
      "5 6\n",
      "30\n"
     ]
    }
   ],
   "source": [
    "i = 0\n",
    "while i < 5:\n",
    "    a, b = input().split()\n",
    "    a = int(a)\n",
    "    b = int(b)\n",
    "    if (a == 0) and (b == 0):\n",
    "        break\n",
    "    if (a == 0) or (b == 0):\n",
    "        continue\n",
    "    print(a * b)\n",
    "    i += 1"
   ]
  },
  {
   "cell_type": "code",
   "execution_count": null,
   "id": "df6176ff",
   "metadata": {},
   "outputs": [],
   "source": [
    "Определите, какое значение будет иметь переменная i после\n",
    "выполнения следующего фрагмента программы:"
   ]
  },
  {
   "cell_type": "code",
   "execution_count": 5,
   "id": "a792d5f6",
   "metadata": {},
   "outputs": [
    {
     "name": "stdout",
     "output_type": "stream",
     "text": [
      "1\n",
      "3\n",
      "5\n",
      "7\n"
     ]
    }
   ],
   "source": [
    "i = 0\n",
    "s = 0 \n",
    "while i < 10:\n",
    "    i = i + 1\n",
    "    print(i)\n",
    "    s = s + i\n",
    "    if s > 15:\n",
    "        break\n",
    "    i = i + 1"
   ]
  },
  {
   "cell_type": "code",
   "execution_count": 6,
   "id": "e0bfa2bd",
   "metadata": {},
   "outputs": [
    {
     "name": "stdout",
     "output_type": "stream",
     "text": [
      "1\n",
      "3\n",
      "5\n",
      "7\n",
      "8\n",
      "9\n",
      "10\n"
     ]
    }
   ],
   "source": [
    "i = 0\n",
    "s = 0 \n",
    "while i < 10:\n",
    "    i = i + 1\n",
    "    print(i)\n",
    "    s = s + i\n",
    "    if s > 15:\n",
    "        continue\n",
    "    i = i + 1"
   ]
  },
  {
   "cell_type": "code",
   "execution_count": null,
   "id": "f29ff03e",
   "metadata": {},
   "outputs": [],
   "source": [
    "Напишите программу, \n",
    "которая считывает целые числа с консоли по \n",
    "одному числу в строке.\n",
    "\n",
    "Для каждого введённого числа проверить:\n",
    "если число меньше 10, то пропускаем это число;\n",
    "если число больше 100, то прекращаем считывать числа;\n",
    "в остальных случаях вывести это число обратно на консоль \n",
    "в отдельной строке."
   ]
  },
  {
   "cell_type": "code",
   "execution_count": 19,
   "id": "fd7c8f7d",
   "metadata": {},
   "outputs": [
    {
     "name": "stdout",
     "output_type": "stream",
     "text": [
      "10\n",
      "Sample Output  10\n",
      "100\n",
      "Sample Output  100\n",
      "101\n"
     ]
    }
   ],
   "source": [
    "a = 0\n",
    "while a <= 100:\n",
    "    a = int(input())\n",
    "    if a > 100:\n",
    "        break\n",
    "    elif a < 10:\n",
    "        continue\n",
    "    else:\n",
    "        print('Sample Output ',a)\n",
    "       "
   ]
  },
  {
   "cell_type": "code",
   "execution_count": null,
   "id": "5a954616",
   "metadata": {},
   "outputs": [],
   "source": [
    "Цикл for"
   ]
  },
  {
   "cell_type": "code",
   "execution_count": 2,
   "id": "2188adb0",
   "metadata": {},
   "outputs": [
    {
     "name": "stdout",
     "output_type": "stream",
     "text": [
      "4\n",
      "****\n",
      "****\n",
      "****\n",
      "****\n"
     ]
    }
   ],
   "source": [
    "n = int(input())\n",
    "for i in range(n):\n",
    "    print('*' * n)"
   ]
  },
  {
   "cell_type": "code",
   "execution_count": null,
   "id": "f4bb83a2",
   "metadata": {},
   "outputs": [],
   "source": [
    "Когда Павел учился в школе, он запоминал таблицу умножения \n",
    "прямоугольными блоками. Для тренировок ему бы очень пригодилась \n",
    "программа, которая показывала бы блок таблицы умножения.\n",
    "\n",
    "Напишите программу, на вход которой даются четыре числа a, b, c \n",
    "и d, каждое в своей строке. \n",
    "Программа должна вывести фрагмент таблицы умножения \n",
    "для всех чисел отрезка [a;b] на все числа отрезка [[c;d].\n",
    "\n",
    "Числа a, b, c и d являются натуральными и не превосходят 10,\n",
    "a≤b, c≤d.\n",
    "\n",
    "Следуйте формату вывода из примера, \n",
    "для разделения элементов внутри строки используйте \n",
    "'\\t' — символ табуляции. Заметьте, что левым столбцом\n",
    "и верхней строкой выводятся сами числа из заданных\n",
    "отрезков — заголовочные столбец и строка таблицы."
   ]
  },
  {
   "cell_type": "code",
   "execution_count": 4,
   "id": "3a8fca47",
   "metadata": {},
   "outputs": [
    {
     "name": "stdout",
     "output_type": "stream",
     "text": [
      "5\n",
      "*****\n",
      "*****\n",
      "*****\n",
      "*****\n",
      "*****\n"
     ]
    }
   ],
   "source": [
    "n = int(input())\n",
    "for i in range(n):\n",
    "    for j in range(n):\n",
    "        print('*', end = '')\n",
    "    print()\n"
   ]
  },
  {
   "cell_type": "code",
   "execution_count": 83,
   "id": "55b5983c",
   "metadata": {},
   "outputs": [
    {
     "name": "stdout",
     "output_type": "stream",
     "text": [
      "7\n",
      "10\n",
      "5\n",
      "6\n",
      "\t\n",
      "\t 5\t 6\n",
      "7\t 35\t 42\n",
      "8\t 40\t 48\n",
      "9\t 45\t 54\n",
      "10\t 50\t 60\n"
     ]
    }
   ],
   "source": [
    "a = int(input())\n",
    "b = int(input())\n",
    "c = int(input())\n",
    "d = int(input())\n",
    "if a <= 10 and c <= d and a <= b and c <= d:\n",
    "    print('\\t')\n",
    "    for j in range(c, d + 1):\n",
    "        print('\\t', j, end = '')\n",
    "    print()\n",
    "    for i in range(a, b + 1):\n",
    "        print(i, end = '')\n",
    "        for j in range(c, d + 1):\n",
    "            print('\\t',i * j, end = '')\n",
    "        print()\n",
    "else:\n",
    "    print('Введеные числа не должны превосходить 10!')"
   ]
  },
  {
   "cell_type": "code",
   "execution_count": null,
   "id": "eb427ed1",
   "metadata": {},
   "outputs": [],
   "source": [
    "Вывести все нечетные чисела от a до b (включая обе границы)"
   ]
  },
  {
   "cell_type": "code",
   "execution_count": 85,
   "id": "5a701c52",
   "metadata": {},
   "outputs": [
    {
     "name": "stdout",
     "output_type": "stream",
     "text": [
      "1\n",
      "22\n",
      "1\n",
      "3\n",
      "5\n",
      "7\n",
      "9\n",
      "11\n",
      "13\n",
      "15\n",
      "17\n",
      "19\n",
      "21\n"
     ]
    }
   ],
   "source": [
    "a = int(input())\n",
    "b = int(input())\n",
    "for i in range(a, b + 1):\n",
    "    if i % 2 != 0:\n",
    "        print(i)"
   ]
  },
  {
   "cell_type": "code",
   "execution_count": null,
   "id": "5df14b6b",
   "metadata": {},
   "outputs": [],
   "source": [
    "Вывести сумму нечетных чисел от a до b (включая обе границы)"
   ]
  },
  {
   "cell_type": "code",
   "execution_count": 92,
   "id": "11e0665b",
   "metadata": {},
   "outputs": [
    {
     "name": "stdout",
     "output_type": "stream",
     "text": [
      "3\n",
      "7\n",
      "15\n"
     ]
    }
   ],
   "source": [
    "a = int(input())\n",
    "b = int(input())\n",
    "s = 0\n",
    "for i in range(a, b + 1):\n",
    "    if i % 2 == 1:\n",
    "        s = s + i\n",
    "print(s)"
   ]
  },
  {
   "cell_type": "code",
   "execution_count": 96,
   "id": "72ecf1e5",
   "metadata": {},
   "outputs": [
    {
     "name": "stdout",
     "output_type": "stream",
     "text": [
      "3\n",
      "7\n",
      "15\n"
     ]
    }
   ],
   "source": [
    "a = int(input())\n",
    "b = int(input())\n",
    "s = 0\n",
    "if a % 2 == 0:\n",
    "    a += 1\n",
    "for i in range(a, b + 1, 2):\n",
    "    s += i\n",
    "print(s)"
   ]
  },
  {
   "cell_type": "code",
   "execution_count": 6,
   "id": "670ffd73",
   "metadata": {},
   "outputs": [
    {
     "name": "stdout",
     "output_type": "stream",
     "text": [
      "22 34\n",
      "168\n"
     ]
    }
   ],
   "source": [
    "a, b = (int(i) for i in input().split())\n",
    "s = 0\n",
    "if a % 2 == 0:\n",
    "    a += 1\n",
    "for i in range(a, b + 1, 2):\n",
    "    s += i\n",
    "print(s)"
   ]
  },
  {
   "cell_type": "code",
   "execution_count": null,
   "id": "92970703",
   "metadata": {},
   "outputs": [],
   "source": [
    "Напишите программу, которая считывает с клавиатуры два числа a и b, \n",
    "считает и выводит на консоль среднее арифметическое всех чисел\n",
    "из отрезка [a;b], которые кратны числу 3.\n",
    "\n",
    "В приведенном ниже примере среднее арифметическое считается для чисел\n",
    "на отрезке [-5; 12]. Всего чисел, делящихся на 3,\n",
    "на этом отрезке 6: -3, 0, 3, 6, 9, 12.\n",
    "Их среднее арифметическое равно 4.5\n",
    "\n",
    "На вход программе подаются интервалы, внутри которых всегда\n",
    "есть хотя бы одно число, которое делится на 3."
   ]
  },
  {
   "cell_type": "code",
   "execution_count": 22,
   "id": "19e2eb01",
   "metadata": {},
   "outputs": [
    {
     "name": "stdout",
     "output_type": "stream",
     "text": [
      "-5\n",
      "12\n",
      "-5\n",
      "-7\n",
      "-6\n",
      "-2\n",
      "5\n",
      "15\n"
     ]
    }
   ],
   "source": [
    "a = int(input())\n",
    "b = int(input())\n",
    "s = 0\n",
    "if a % 3 == 0:\n",
    "    a += 3\n",
    "for i in range(a, b + 1, 3):\n",
    "        s += i\n",
    "        print(s)"
   ]
  },
  {
   "cell_type": "code",
   "execution_count": 6,
   "id": "04bcd7cf",
   "metadata": {},
   "outputs": [
    {
     "name": "stdout",
     "output_type": "stream",
     "text": [
      "-5\n",
      "12\n",
      "4.5\n"
     ]
    }
   ],
   "source": [
    "a = int(input())\n",
    "b = int(input())\n",
    "sum = 0\n",
    "numbers = 0\n",
    "for i in range(a, b + 1):\n",
    "    if i % 3 == 0:\n",
    "        sum += i\n",
    "        numbers += 1\n",
    "print(sum / numbers)\n"
   ]
  },
  {
   "cell_type": "code",
   "execution_count": null,
   "id": "6650ed03",
   "metadata": {},
   "outputs": [],
   "source": [
    "a, b = map(int, intput().splpit())"
   ]
  },
  {
   "cell_type": "code",
   "execution_count": null,
   "id": "4f1c571c",
   "metadata": {},
   "outputs": [],
   "source": [
    "Строки и символы"
   ]
  },
  {
   "cell_type": "code",
   "execution_count": 8,
   "id": "ca89c8d1",
   "metadata": {},
   "outputs": [
    {
     "name": "stdout",
     "output_type": "stream",
     "text": [
      "G\n",
      "A\n"
     ]
    }
   ],
   "source": [
    "genome = 'ATGG'\n",
    "i = 2\n",
    "t = -4\n",
    "print(genome[i])\n",
    "print(genome[t])"
   ]
  },
  {
   "cell_type": "code",
   "execution_count": 9,
   "id": "2eb318bf",
   "metadata": {},
   "outputs": [
    {
     "name": "stdout",
     "output_type": "stream",
     "text": [
      "A\n",
      "T\n",
      "T\n",
      "G\n"
     ]
    }
   ],
   "source": [
    "genome = 'ATTG'\n",
    "for c in genome:\n",
    "    print(c)"
   ]
  },
  {
   "cell_type": "code",
   "execution_count": 10,
   "id": "63971cb9",
   "metadata": {},
   "outputs": [
    {
     "name": "stdout",
     "output_type": "stream",
     "text": [
      "CACCTGGACTTACC\n",
      "6\n"
     ]
    }
   ],
   "source": [
    "genome = input()\n",
    "cnt = 0\n",
    "for nucl in genome:\n",
    "    if nucl == 'C':\n",
    "        cnt += 1\n",
    "print(cnt)"
   ]
  },
  {
   "cell_type": "code",
   "execution_count": 11,
   "id": "36621852",
   "metadata": {},
   "outputs": [
    {
     "name": "stdout",
     "output_type": "stream",
     "text": [
      "CACCTGGACTTACC\n",
      "6\n"
     ]
    }
   ],
   "source": [
    "genome = input()\n",
    "print(genome.count('C'))"
   ]
  },
  {
   "cell_type": "code",
   "execution_count": null,
   "id": "ce8f7d88",
   "metadata": {},
   "outputs": [],
   "source": [
    "GC-состав является важной характеристикой геномных \n",
    "последовательностей и определяется как процентное \n",
    "соотношение суммы всех гуанинов и цитозинов к общему числу\n",
    "нуклеиновых оснований в геномной последовательности.\n",
    "\n",
    "Напишите программу, которая вычисляет процентное содержание \n",
    "символов G (гуанин) и C (цитозин) в введенной строке \n",
    "(программа не должна зависеть от регистра вводимых символов).\n",
    "\n",
    "Например, в строке \"acggtgttat\" процентное содержание \n",
    "символов G и C равно 4/10 * 100 = 40.0 \n",
    ", где 4 -- это количество символов G и C,  \n",
    "    а 10 -- это длина строки."
   ]
  },
  {
   "cell_type": "code",
   "execution_count": 24,
   "id": "bbfba17d",
   "metadata": {},
   "outputs": [
    {
     "name": "stdout",
     "output_type": "stream",
     "text": [
      "acggtgttat\n",
      "40.0\n"
     ]
    }
   ],
   "source": [
    "genome = input()\n",
    "letter = 0\n",
    "ctn = genome.upper().count('C')\n",
    "gnn = genome.upper().count('G')\n",
    "for n in genome:\n",
    "    letter += 1    \n",
    "print((ctn + gnn) / letter * 100)"
   ]
  },
  {
   "cell_type": "code",
   "execution_count": null,
   "id": "6ea23f52",
   "metadata": {},
   "outputs": [],
   "source": [
    "Узнав, что ДНК не является случайной строкой, только что поступившие в \n",
    "Институт биоинформатики студенты группы информатиков предложили использовать алгоритм сжатия, \n",
    "который сжимает повторяющиеся символы в строке.\n",
    "\n",
    "Кодирование осуществляется следующим образом:\n",
    "s = 'aaaabbсaa' преобразуется в 'a4b2с1a2', то есть группы одинаковых символов \n",
    "исходной строки заменяются на этот символ и количество его повторений в этой позиции строки.\n",
    "\n",
    "Напишите программу, которая считывает строку, кодирует её предложенным \n",
    "алгоритмом и выводит закодированную последовательность на стандартный вывод. \n",
    "Кодирование должно учитывать регистр символов."
   ]
  },
  {
   "cell_type": "code",
   "execution_count": null,
   "id": "03e32ff5",
   "metadata": {},
   "outputs": [],
   "source": []
  }
 ],
 "metadata": {
  "kernelspec": {
   "display_name": "Python 3 (ipykernel)",
   "language": "python",
   "name": "python3"
  },
  "language_info": {
   "codemirror_mode": {
    "name": "ipython",
    "version": 3
   },
   "file_extension": ".py",
   "mimetype": "text/x-python",
   "name": "python",
   "nbconvert_exporter": "python",
   "pygments_lexer": "ipython3",
   "version": "3.9.7"
  }
 },
 "nbformat": 4,
 "nbformat_minor": 5
}
