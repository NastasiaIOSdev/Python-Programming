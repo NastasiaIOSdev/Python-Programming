{
 "cells": [
  {
   "cell_type": "code",
   "execution_count": 5,
   "id": "05817b7f",
   "metadata": {},
   "outputs": [
    {
     "name": "stdout",
     "output_type": "stream",
     "text": [
      "8\n",
      "Четное!\n"
     ]
    }
   ],
   "source": [
    "x = int(input())\n",
    "if x % 2 == 0:\n",
    "    print('Четное!')\n",
    "else: \n",
    "    print('Нечетное')"
   ]
  },
  {
   "cell_type": "code",
   "execution_count": null,
   "id": "3fb4c4db",
   "metadata": {},
   "outputs": [],
   "source": [
    "'найти наибольшее из двух чисел'"
   ]
  },
  {
   "cell_type": "code",
   "execution_count": 17,
   "id": "44aca213",
   "metadata": {},
   "outputs": [
    {
     "name": "stdout",
     "output_type": "stream",
     "text": [
      "Type a: 342\n",
      "Type b: 564\n",
      "Larger number is: 564\n"
     ]
    }
   ],
   "source": [
    "a = int(input('Type a: '))\n",
    "b = int(input('Type b: '))\n",
    "if a >= b:\n",
    "    print('Larger number is:', a)\n",
    "else:\n",
    "    print('Larger number is:', b)"
   ]
  },
  {
   "cell_type": "code",
   "execution_count": 10,
   "id": "a70c1fb4",
   "metadata": {},
   "outputs": [
    {
     "name": "stdout",
     "output_type": "stream",
     "text": [
      "7\n"
     ]
    }
   ],
   "source": [
    "a = 4\n",
    "b = 7\n",
    "m = a\n",
    "if b > m:\n",
    "    m = b\n",
    "    print(m)"
   ]
  },
  {
   "cell_type": "code",
   "execution_count": 1,
   "id": "04a128c7",
   "metadata": {},
   "outputs": [
    {
     "name": "stdout",
     "output_type": "stream",
     "text": [
      "Type a: 3\n",
      "Type b: 5\n",
      "5\n"
     ]
    }
   ],
   "source": [
    "a = int(input('Type a: '))\n",
    "b = int(input('Type b: '))\n",
    "m = a\n",
    "if b > m:\n",
    "    m = b\n",
    "print(m)"
   ]
  },
  {
   "cell_type": "code",
   "execution_count": null,
   "id": "d3e32104",
   "metadata": {},
   "outputs": [],
   "source": [
    "'Вводят два числа, вывести результат деления первого числа на второе,'\n",
    "'либо вывести обьявление что деление невозможно'"
   ]
  },
  {
   "cell_type": "code",
   "execution_count": 2,
   "id": "a4bc1a71",
   "metadata": {},
   "outputs": [
    {
     "name": "stdout",
     "output_type": "stream",
     "text": [
      "3\n",
      "6\n",
      "0.5\n"
     ]
    }
   ],
   "source": [
    "a = int(input())\n",
    "b = int(input())\n",
    "if b == 0:\n",
    "    print('Деление на 0 - не возможно!')\n",
    "else:\n",
    "    print(float(a / b))"
   ]
  },
  {
   "cell_type": "code",
   "execution_count": 5,
   "id": "7f9d0340",
   "metadata": {},
   "outputs": [
    {
     "name": "stdout",
     "output_type": "stream",
     "text": [
      "6\n",
      "0\n",
      "Невозможно делить на 0!\n",
      "введите еще раз число b, ненулевое значение - 0\n",
      "Вы не справились с заданием!\n"
     ]
    }
   ],
   "source": [
    "a = int(input())\n",
    "b = int(input())\n",
    "if b != 0:\n",
    "    print(a / b)\n",
    "else:\n",
    "    print('Невозможно делить на 0!')\n",
    "    b = int(input('введите еще раз число b, ненулевое значение - '))\n",
    "    if b == 0:\n",
    "        print('Вы не справились с заданием!')\n",
    "    else:\n",
    "        print(a / b)"
   ]
  },
  {
   "cell_type": "code",
   "execution_count": 11,
   "id": "8bf9a88f",
   "metadata": {},
   "outputs": [
    {
     "name": "stdout",
     "output_type": "stream",
     "text": [
      "7\n",
      "9\n",
      "2\n",
      "Недосып\n"
     ]
    }
   ],
   "source": [
    "A = int(input())\n",
    "B = int(input())\n",
    "H = int(input())\n",
    "if A <= B:\n",
    "    if H > B:\n",
    "        print('Пересып')\n",
    "    elif H < A:\n",
    "        print('Недосып')\n",
    "    else:\n",
    "        print('Это нормально')"
   ]
  },
  {
   "cell_type": "code",
   "execution_count": 30,
   "id": "f43ce65e",
   "metadata": {},
   "outputs": [
    {
     "name": "stdout",
     "output_type": "stream",
     "text": [
      "2000\n",
      "Високосный\n"
     ]
    }
   ],
   "source": [
    "n = int(input())\n",
    "if 1900 <= n <= 3000:\n",
    "    if n % 4 == 0 and n % 100 != 0:\n",
    "        print('Високосный')\n",
    "    elif n % 400 == 0:\n",
    "        print('Високосный')\n",
    "    else:\n",
    "        print('Обычный')\n",
    "else:\n",
    "    print('Год вне заданного диапазона')"
   ]
  }
 ],
 "metadata": {
  "kernelspec": {
   "display_name": "Python 3 (ipykernel)",
   "language": "python",
   "name": "python3"
  },
  "language_info": {
   "codemirror_mode": {
    "name": "ipython",
    "version": 3
   },
   "file_extension": ".py",
   "mimetype": "text/x-python",
   "name": "python",
   "nbconvert_exporter": "python",
   "pygments_lexer": "ipython3",
   "version": "3.9.7"
  }
 },
 "nbformat": 4,
 "nbformat_minor": 5
}
